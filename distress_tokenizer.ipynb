{
 "cells": [
  {
   "cell_type": "code",
   "execution_count": 11,
   "metadata": {},
   "outputs": [],
   "source": [
    "import nltk\n",
    "from nltk.corpus import stopwords"
   ]
  },
  {
   "cell_type": "code",
   "execution_count": 28,
   "metadata": {},
   "outputs": [
    {
     "name": "stdout",
     "output_type": "stream",
     "text": [
      "['help', 'me!!', 'people', 'me.']\n"
     ]
    }
   ],
   "source": [
    "message = \"Help me!! There are people after me.\"\n",
    "tokenized_words = nltk.word_tokenize(sentence)\n",
    "#print(tokenized_words)\n",
    "stop = set(stopwords.words('english'))\n",
    "\n",
    "sentence_word = [i for i in message.lower().split() if i not in stop]\n",
    "print(sentence_word)"
   ]
  },
  {
   "cell_type": "code",
   "execution_count": 9,
   "metadata": {},
   "outputs": [],
   "source": [
    "word_class = ['help','urgent','molested','raped','following','harrasing','snatch','abusing','fight','scared','stalking','fondle',\n",
    "                 'pervert','kidnapped','alarm',\n",
    "'appall',\n",
    "'awe',\n",
    "'bully',\n",
    "'coerce',\n",
    "'constrain',\n",
    "'daunt',\n",
    "'dishearten',\n",
    "'dismay',\n",
    "'scare',\n",
    "'subdue'\n",
    "'terrify',\n",
    "'terrorize',\n",
    "'badger',\n",
    "'bait',\n",
    "'bludgeon',\n",
    "'bluster',\n",
    "'browbeat',\n",
    "'buffalo',\n",
    "'bulldoze',\n",
    "'chill',\n",
    "'compel',\n",
    "'cow',\n",
    "'dispirit',\n",
    "'disquiet',\n",
    "'dragoon',\n",
    "'enforce',\n",
    "'force',\n",
    "'hound',\n",
    "'oblige',\n",
    "'overawe',\n",
    "'ride',\n",
    "'ruffle',\n",
    "'spook',\n",
    "'strong-arm',\n",
    "'bowl over',\n",
    "'lean on',\n",
    "'push around',\n",
    "'showboat',\n",
    "\"twist someone's arm\",'trouble', 'sorry', 'anxiety', 'perturbation', 'uneasiness', 'disquiet', 'angst']\n"
   ]
  },
  {
   "cell_type": "code",
   "execution_count": 30,
   "metadata": {},
   "outputs": [
    {
     "name": "stdout",
     "output_type": "stream",
     "text": [
      "help\n"
     ]
    }
   ],
   "source": [
    "count = 0\n",
    "for ix in sentence_word:\n",
    "    if ix in word_class:\n",
    "        print(ix)\n",
    "        count += 1\n",
    "    \n",
    "    \n",
    "    "
   ]
  }
 ],
 "metadata": {
  "kernelspec": {
   "display_name": "Python 3",
   "language": "python",
   "name": "python3"
  },
  "language_info": {
   "codemirror_mode": {
    "name": "ipython",
    "version": 3
   },
   "file_extension": ".py",
   "mimetype": "text/x-python",
   "name": "python",
   "nbconvert_exporter": "python",
   "pygments_lexer": "ipython3",
   "version": "3.6.5"
  }
 },
 "nbformat": 4,
 "nbformat_minor": 2
}
